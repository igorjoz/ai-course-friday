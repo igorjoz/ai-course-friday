{
  "nbformat": 4,
  "nbformat_minor": 0,
  "metadata": {
    "colab": {
      "provenance": [],
      "authorship_tag": "ABX9TyMOprF2jhO6AW/Vb/GVBW9Q",
      "include_colab_link": true
    },
    "kernelspec": {
      "name": "python3",
      "display_name": "Python 3"
    },
    "language_info": {
      "name": "python"
    }
  },
  "cells": [
    {
      "cell_type": "markdown",
      "metadata": {
        "id": "view-in-github",
        "colab_type": "text"
      },
      "source": [
        "<a href=\"https://colab.research.google.com/github/igorjoz/ai-course-friday/blob/main/L6.ipynb\" target=\"_parent\"><img src=\"https://colab.research.google.com/assets/colab-badge.svg\" alt=\"Open In Colab\"/></a>"
      ]
    },
    {
      "cell_type": "markdown",
      "source": [
        "# Tytuł\n",
        "\n",
        "## Nagłówek\n",
        "\n",
        "- **abc**\n",
        "- abc\n",
        "  - abc"
      ],
      "metadata": {
        "id": "Fp4A2F-Z9w5L"
      }
    },
    {
      "cell_type": "code",
      "execution_count": null,
      "metadata": {
        "colab": {
          "base_uri": "https://localhost:8080/"
        },
        "id": "JNmDLjhY8VMW",
        "outputId": "e2db41dc-3c7a-4680-e024-9e8a84fa8698"
      },
      "outputs": [
        {
          "output_type": "stream",
          "name": "stdout",
          "text": [
            "Ala\n",
            "Hello world\n"
          ]
        }
      ],
      "source": [
        "print(name)\n",
        "print(\"Hello world\")"
      ]
    },
    {
      "cell_type": "code",
      "source": [
        "name = \"Igor\"\n",
        "print(\"H123\")"
      ],
      "metadata": {
        "colab": {
          "base_uri": "https://localhost:8080/"
        },
        "id": "zAkCbuLi9nVT",
        "outputId": "72af79c8-2227-4e65-9097-2731edbf7b5c"
      },
      "execution_count": null,
      "outputs": [
        {
          "output_type": "stream",
          "name": "stdout",
          "text": [
            "H123\n"
          ]
        }
      ]
    },
    {
      "cell_type": "code",
      "source": [
        "name = \"Ala\""
      ],
      "metadata": {
        "id": "tmVXv1iO-yZy"
      },
      "execution_count": null,
      "outputs": []
    }
  ]
}